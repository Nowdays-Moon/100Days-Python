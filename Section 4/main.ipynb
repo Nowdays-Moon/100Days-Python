{
 "cells": [
  {
   "cell_type": "markdown",
   "metadata": {},
   "source": [
    "# List"
   ]
  },
  {
   "cell_type": "code",
   "execution_count": 2,
   "metadata": {},
   "outputs": [],
   "source": [
    "states_of_america = [\"Delaware\", ' Pensylvenia', 'Hawaii']"
   ]
  },
  {
   "cell_type": "code",
   "execution_count": 4,
   "metadata": {},
   "outputs": [
    {
     "name": "stdout",
     "output_type": "stream",
     "text": [
      "Delaware\n"
     ]
    }
   ],
   "source": [
    "print(states_of_america[0])"
   ]
  },
  {
   "cell_type": "code",
   "execution_count": 6,
   "metadata": {},
   "outputs": [
    {
     "name": "stdout",
     "output_type": "stream",
     "text": [
      " Pensylvenia\n"
     ]
    }
   ],
   "source": [
    "print(states_of_america[-2])"
   ]
  },
  {
   "cell_type": "code",
   "execution_count": 7,
   "metadata": {},
   "outputs": [],
   "source": [
    "states_of_america.append(\"Angel Land\")"
   ]
  },
  {
   "cell_type": "code",
   "execution_count": 8,
   "metadata": {},
   "outputs": [
    {
     "data": {
      "text/plain": [
       "'Angel Land'"
      ]
     },
     "execution_count": 8,
     "metadata": {},
     "output_type": "execute_result"
    }
   ],
   "source": [
    "states_of_america[-1]"
   ]
  },
  {
   "cell_type": "code",
   "execution_count": 9,
   "metadata": {},
   "outputs": [],
   "source": [
    "states_of_america.extend([\"Devil Land\",\"Joker\"])"
   ]
  },
  {
   "cell_type": "code",
   "execution_count": 10,
   "metadata": {},
   "outputs": [
    {
     "data": {
      "text/plain": [
       "'Joker'"
      ]
     },
     "execution_count": 10,
     "metadata": {},
     "output_type": "execute_result"
    }
   ],
   "source": [
    "states_of_america[-1]"
   ]
  },
  {
   "cell_type": "code",
   "execution_count": 15,
   "metadata": {},
   "outputs": [],
   "source": [
    "name_string = input(\"Give me evreybody's names sperated by a comma\")"
   ]
  },
  {
   "cell_type": "code",
   "execution_count": 16,
   "metadata": {},
   "outputs": [],
   "source": [
    "names = name_string.split(\", \")"
   ]
  },
  {
   "cell_type": "code",
   "execution_count": 17,
   "metadata": {},
   "outputs": [
    {
     "name": "stdout",
     "output_type": "stream",
     "text": [
      "D is going to by the meal!\n"
     ]
    }
   ],
   "source": [
    "import random\n",
    "person_who_will_pay = random.choice(names)\n",
    "print(person_who_will_pay + \" is going to by the meal!\")"
   ]
  },
  {
   "cell_type": "code",
   "execution_count": 2,
   "metadata": {},
   "outputs": [],
   "source": [
    "fruits = [\"A\", \"B\" ,\"C\", \"D\"]\n",
    "vegitables = [\"E\", \"F\", 'G']"
   ]
  },
  {
   "cell_type": "code",
   "execution_count": 3,
   "metadata": {},
   "outputs": [],
   "source": [
    "dirty_dozen = [fruits, vegitables]"
   ]
  },
  {
   "cell_type": "code",
   "execution_count": 4,
   "metadata": {},
   "outputs": [
    {
     "name": "stdout",
     "output_type": "stream",
     "text": [
      "[['A', 'B', 'C', 'D'], ['E', 'F', 'G']]\n"
     ]
    }
   ],
   "source": [
    "print(dirty_dozen)"
   ]
  },
  {
   "cell_type": "code",
   "execution_count": null,
   "metadata": {},
   "outputs": [],
   "source": [
    "rock = '''\n",
    "    _______\n",
    "---'   ____)\n",
    "      (_____)\n",
    "      (_____)\n",
    "      (____)\n",
    "---.__(___)\n",
    "'''\n",
    "\n",
    "paper = '''\n",
    "    _______\n",
    "---'   ____)____\n",
    "          ______)\n",
    "          _______)\n",
    "         _______)\n",
    "---.__________)\n",
    "'''\n",
    "\n",
    "scissors = '''\n",
    "    _______\n",
    "---'   ____)____\n",
    "          ______)\n",
    "       __________)\n",
    "      (____)\n",
    "---.__(___)\n",
    "'''\n"
   ]
  }
 ],
 "metadata": {
  "interpreter": {
   "hash": "b0fa6594d8f4cbf19f97940f81e996739fb7646882a419484c72d19e05852a7e"
  },
  "kernelspec": {
   "display_name": "Python 3.9.10 64-bit",
   "language": "python",
   "name": "python3"
  },
  "language_info": {
   "codemirror_mode": {
    "name": "ipython",
    "version": 3
   },
   "file_extension": ".py",
   "mimetype": "text/x-python",
   "name": "python",
   "nbconvert_exporter": "python",
   "pygments_lexer": "ipython3",
   "version": "3.9.10"
  },
  "orig_nbformat": 4
 },
 "nbformat": 4,
 "nbformat_minor": 2
}
